{
 "cells": [
  {
   "cell_type": "code",
   "execution_count": 2,
   "metadata": {},
   "outputs": [],
   "source": [
    "import numpy as np\n",
    "import pandas as pd"
   ]
  },
  {
   "cell_type": "code",
   "execution_count": 3,
   "metadata": {},
   "outputs": [],
   "source": [
    "LENGTH = 1000000 "
   ]
  },
  {
   "cell_type": "markdown",
   "metadata": {},
   "source": [
    "## Generate Custom Dataset"
   ]
  },
  {
   "cell_type": "code",
   "execution_count": 9,
   "metadata": {},
   "outputs": [],
   "source": [
    "governments_names = pd.read_csv('Seeds/governments.csv')[\"governorate_name_en\"].values"
   ]
  },
  {
   "cell_type": "code",
   "execution_count": 7,
   "metadata": {},
   "outputs": [],
   "source": [
    "available_names = pd.read_csv('Seeds/names.csv')['name'].unique()\n",
    "\n",
    "names = np.random.choice(available_names, LENGTH)\n",
    "\n",
    "IDs = np.arange(1, LENGTH + 1)\n",
    "governments = np.random.choice(governments_names, LENGTH)\n",
    "ages = np.random.randint(18, 81, LENGTH)\n",
    "gender = np.random.choice([0, 1], LENGTH)"
   ]
  },
  {
   "cell_type": "code",
   "execution_count": 23,
   "metadata": {},
   "outputs": [
    {
     "data": {
      "text/html": [
       "<div>\n",
       "<style scoped>\n",
       "    .dataframe tbody tr th:only-of-type {\n",
       "        vertical-align: middle;\n",
       "    }\n",
       "\n",
       "    .dataframe tbody tr th {\n",
       "        vertical-align: top;\n",
       "    }\n",
       "\n",
       "    .dataframe thead th {\n",
       "        text-align: right;\n",
       "    }\n",
       "</style>\n",
       "<table border=\"1\" class=\"dataframe\">\n",
       "  <thead>\n",
       "    <tr style=\"text-align: right;\">\n",
       "      <th></th>\n",
       "      <th>ID</th>\n",
       "      <th>governorate</th>\n",
       "      <th>age</th>\n",
       "      <th>name</th>\n",
       "      <th>gender</th>\n",
       "    </tr>\n",
       "  </thead>\n",
       "  <tbody>\n",
       "    <tr>\n",
       "      <th>0</th>\n",
       "      <td>1</td>\n",
       "      <td>Giza</td>\n",
       "      <td>52</td>\n",
       "      <td>Todd Oneal</td>\n",
       "      <td>0</td>\n",
       "    </tr>\n",
       "    <tr>\n",
       "      <th>1</th>\n",
       "      <td>2</td>\n",
       "      <td>Sohag</td>\n",
       "      <td>74</td>\n",
       "      <td>Mrs. Courtney Martin</td>\n",
       "      <td>0</td>\n",
       "    </tr>\n",
       "    <tr>\n",
       "      <th>2</th>\n",
       "      <td>3</td>\n",
       "      <td>Fayoum</td>\n",
       "      <td>57</td>\n",
       "      <td>John Stone</td>\n",
       "      <td>1</td>\n",
       "    </tr>\n",
       "    <tr>\n",
       "      <th>3</th>\n",
       "      <td>4</td>\n",
       "      <td>Qaliubiya</td>\n",
       "      <td>30</td>\n",
       "      <td>Jennifer Farrell</td>\n",
       "      <td>1</td>\n",
       "    </tr>\n",
       "    <tr>\n",
       "      <th>4</th>\n",
       "      <td>5</td>\n",
       "      <td>Matrouh</td>\n",
       "      <td>60</td>\n",
       "      <td>Daniel Hall</td>\n",
       "      <td>1</td>\n",
       "    </tr>\n",
       "  </tbody>\n",
       "</table>\n",
       "</div>"
      ],
      "text/plain": [
       "   ID governorate  age                  name  gender\n",
       "0   1        Giza   52            Todd Oneal       0\n",
       "1   2       Sohag   74  Mrs. Courtney Martin       0\n",
       "2   3      Fayoum   57            John Stone       1\n",
       "3   4   Qaliubiya   30      Jennifer Farrell       1\n",
       "4   5     Matrouh   60           Daniel Hall       1"
      ]
     },
     "execution_count": 23,
     "metadata": {},
     "output_type": "execute_result"
    }
   ],
   "source": [
    "df = pd.DataFrame({\n",
    "    'ID': IDs,\n",
    "    'governorate': governments,\n",
    "    'age': ages,\n",
    "    'name': names,\n",
    "    'gender': gender})\n",
    "\n",
    "df.head()"
   ]
  },
  {
   "cell_type": "code",
   "execution_count": 25,
   "metadata": {},
   "outputs": [],
   "source": [
    "df.to_csv('Data/customer.csv', index=False)"
   ]
  },
  {
   "cell_type": "markdown",
   "metadata": {},
   "source": [
    "## Generate Suppliers Dataset"
   ]
  },
  {
   "cell_type": "code",
   "execution_count": 91,
   "metadata": {},
   "outputs": [],
   "source": [
    "suppliers_id = np.arange(1, 10001)\n",
    "suppliers_names = np.random.choice(available_names, 10000)"
   ]
  },
  {
   "cell_type": "code",
   "execution_count": 92,
   "metadata": {},
   "outputs": [
    {
     "data": {
      "text/html": [
       "<div>\n",
       "<style scoped>\n",
       "    .dataframe tbody tr th:only-of-type {\n",
       "        vertical-align: middle;\n",
       "    }\n",
       "\n",
       "    .dataframe tbody tr th {\n",
       "        vertical-align: top;\n",
       "    }\n",
       "\n",
       "    .dataframe thead th {\n",
       "        text-align: right;\n",
       "    }\n",
       "</style>\n",
       "<table border=\"1\" class=\"dataframe\">\n",
       "  <thead>\n",
       "    <tr style=\"text-align: right;\">\n",
       "      <th></th>\n",
       "      <th>ID</th>\n",
       "      <th>name</th>\n",
       "    </tr>\n",
       "  </thead>\n",
       "  <tbody>\n",
       "    <tr>\n",
       "      <th>0</th>\n",
       "      <td>1</td>\n",
       "      <td>Ann Snyder</td>\n",
       "    </tr>\n",
       "    <tr>\n",
       "      <th>1</th>\n",
       "      <td>2</td>\n",
       "      <td>Mr. Andrew Mcdonald III</td>\n",
       "    </tr>\n",
       "    <tr>\n",
       "      <th>2</th>\n",
       "      <td>3</td>\n",
       "      <td>Shannon Cook</td>\n",
       "    </tr>\n",
       "    <tr>\n",
       "      <th>3</th>\n",
       "      <td>4</td>\n",
       "      <td>Karen Santiago</td>\n",
       "    </tr>\n",
       "    <tr>\n",
       "      <th>4</th>\n",
       "      <td>5</td>\n",
       "      <td>Megan Krueger</td>\n",
       "    </tr>\n",
       "  </tbody>\n",
       "</table>\n",
       "</div>"
      ],
      "text/plain": [
       "   ID                     name\n",
       "0   1               Ann Snyder\n",
       "1   2  Mr. Andrew Mcdonald III\n",
       "2   3             Shannon Cook\n",
       "3   4           Karen Santiago\n",
       "4   5            Megan Krueger"
      ]
     },
     "execution_count": 92,
     "metadata": {},
     "output_type": "execute_result"
    }
   ],
   "source": [
    "suppliers_df = pd.DataFrame({\n",
    "    'ID': suppliers_id,\n",
    "    'name': suppliers_names})\n",
    "\n",
    "suppliers_df.head()"
   ]
  },
  {
   "cell_type": "code",
   "execution_count": 93,
   "metadata": {},
   "outputs": [],
   "source": [
    "suppliers_df.to_csv('Data/suppliers.csv', index=False)"
   ]
  },
  {
   "cell_type": "markdown",
   "metadata": {},
   "source": [
    "## Generate Products Dataset"
   ]
  },
  {
   "cell_type": "code",
   "execution_count": 94,
   "metadata": {},
   "outputs": [],
   "source": [
    "products_available_names = pd.read_csv('Data/products.csv')[\"product_name\"].unique()\n",
    "\n",
    "\n",
    "products_IDs = np.arange(1, LENGTH + 1)\n",
    "products_names = np.random.choice(products_available_names, LENGTH)\n",
    "products_prices = np.random.randint(100, 10001, LENGTH)\n",
    "products_categories = np.random.randint(1,  5001, LENGTH)\n",
    "cid = np.random.randint(1, 10001, LENGTH)\n",
    "\n"
   ]
  },
  {
   "cell_type": "code",
   "execution_count": 95,
   "metadata": {},
   "outputs": [
    {
     "data": {
      "text/html": [
       "<div>\n",
       "<style scoped>\n",
       "    .dataframe tbody tr th:only-of-type {\n",
       "        vertical-align: middle;\n",
       "    }\n",
       "\n",
       "    .dataframe tbody tr th {\n",
       "        vertical-align: top;\n",
       "    }\n",
       "\n",
       "    .dataframe thead th {\n",
       "        text-align: right;\n",
       "    }\n",
       "</style>\n",
       "<table border=\"1\" class=\"dataframe\">\n",
       "  <thead>\n",
       "    <tr style=\"text-align: right;\">\n",
       "      <th></th>\n",
       "      <th>ID</th>\n",
       "      <th>product_name</th>\n",
       "      <th>price</th>\n",
       "      <th>category</th>\n",
       "      <th>supplier_id</th>\n",
       "    </tr>\n",
       "  </thead>\n",
       "  <tbody>\n",
       "    <tr>\n",
       "      <th>0</th>\n",
       "      <td>1</td>\n",
       "      <td>Nutri-Grain Crunch Strawberry Parfait Breakfas...</td>\n",
       "      <td>1934</td>\n",
       "      <td>4288</td>\n",
       "      <td>6779</td>\n",
       "    </tr>\n",
       "    <tr>\n",
       "      <th>1</th>\n",
       "      <td>2</td>\n",
       "      <td>Thermal Creations Heat Tamer Leave-In Spray</td>\n",
       "      <td>7999</td>\n",
       "      <td>2326</td>\n",
       "      <td>6239</td>\n",
       "    </tr>\n",
       "    <tr>\n",
       "      <th>2</th>\n",
       "      <td>3</td>\n",
       "      <td>Frozen Greek Yogurt Bars With Toffee &amp; Caramel...</td>\n",
       "      <td>5368</td>\n",
       "      <td>1513</td>\n",
       "      <td>2505</td>\n",
       "    </tr>\n",
       "    <tr>\n",
       "      <th>3</th>\n",
       "      <td>4</td>\n",
       "      <td>All Natural Cheese Deli Slices - Swiss/Colby/C...</td>\n",
       "      <td>5907</td>\n",
       "      <td>427</td>\n",
       "      <td>3056</td>\n",
       "    </tr>\n",
       "    <tr>\n",
       "      <th>4</th>\n",
       "      <td>5</td>\n",
       "      <td>Light White Rice Loaf</td>\n",
       "      <td>7642</td>\n",
       "      <td>4662</td>\n",
       "      <td>8544</td>\n",
       "    </tr>\n",
       "  </tbody>\n",
       "</table>\n",
       "</div>"
      ],
      "text/plain": [
       "   ID                                       product_name  price  category  \\\n",
       "0   1  Nutri-Grain Crunch Strawberry Parfait Breakfas...   1934      4288   \n",
       "1   2        Thermal Creations Heat Tamer Leave-In Spray   7999      2326   \n",
       "2   3  Frozen Greek Yogurt Bars With Toffee & Caramel...   5368      1513   \n",
       "3   4  All Natural Cheese Deli Slices - Swiss/Colby/C...   5907       427   \n",
       "4   5                              Light White Rice Loaf   7642      4662   \n",
       "\n",
       "   supplier_id  \n",
       "0         6779  \n",
       "1         6239  \n",
       "2         2505  \n",
       "3         3056  \n",
       "4         8544  "
      ]
     },
     "execution_count": 95,
     "metadata": {},
     "output_type": "execute_result"
    }
   ],
   "source": [
    "products_df = pd.DataFrame({\n",
    "    'ID': products_IDs,\n",
    "    'product_name': products_names,\n",
    "    'price': products_prices,\n",
    "    'category': products_categories,\n",
    "    'supplier_id': cid})\n",
    "\n",
    "products_df.head()"
   ]
  },
  {
   "cell_type": "code",
   "execution_count": 96,
   "metadata": {},
   "outputs": [],
   "source": [
    "# shuffle the data\n",
    "products_df = products_df.sample(frac=1).reset_index(drop=True)\n",
    "\n",
    "products_df.to_csv('Data/products.csv', index=False)"
   ]
  },
  {
   "cell_type": "markdown",
   "metadata": {},
   "source": [
    "## Generate Orders Dataset"
   ]
  },
  {
   "cell_type": "code",
   "execution_count": 76,
   "metadata": {},
   "outputs": [],
   "source": [
    "order_ids = np.arange(1, LENGTH + 1)\n",
    "customer_ids = np.random.randint(1, LENGTH + 1, LENGTH)\n",
    "available_dates = pd.date_range(start='1/1/2010', end='1/1/2021')\n",
    "# change the format of the dates to be like 2020-01-01\n",
    "available_dates = [str(date).split()[0] for date in available_dates]\n",
    "orders_dates = np.random.choice(available_dates, LENGTH)\n",
    "orders_time = np.random.randint(0, 24, LENGTH)"
   ]
  },
  {
   "cell_type": "code",
   "execution_count": 79,
   "metadata": {},
   "outputs": [
    {
     "data": {
      "text/html": [
       "<div>\n",
       "<style scoped>\n",
       "    .dataframe tbody tr th:only-of-type {\n",
       "        vertical-align: middle;\n",
       "    }\n",
       "\n",
       "    .dataframe tbody tr th {\n",
       "        vertical-align: top;\n",
       "    }\n",
       "\n",
       "    .dataframe thead th {\n",
       "        text-align: right;\n",
       "    }\n",
       "</style>\n",
       "<table border=\"1\" class=\"dataframe\">\n",
       "  <thead>\n",
       "    <tr style=\"text-align: right;\">\n",
       "      <th></th>\n",
       "      <th>ID</th>\n",
       "      <th>customer_id</th>\n",
       "      <th>date</th>\n",
       "      <th>hour</th>\n",
       "    </tr>\n",
       "  </thead>\n",
       "  <tbody>\n",
       "    <tr>\n",
       "      <th>0</th>\n",
       "      <td>1</td>\n",
       "      <td>452894</td>\n",
       "      <td>2017-09-04</td>\n",
       "      <td>6</td>\n",
       "    </tr>\n",
       "    <tr>\n",
       "      <th>1</th>\n",
       "      <td>2</td>\n",
       "      <td>704430</td>\n",
       "      <td>2017-03-22</td>\n",
       "      <td>14</td>\n",
       "    </tr>\n",
       "    <tr>\n",
       "      <th>2</th>\n",
       "      <td>3</td>\n",
       "      <td>429175</td>\n",
       "      <td>2013-07-23</td>\n",
       "      <td>1</td>\n",
       "    </tr>\n",
       "    <tr>\n",
       "      <th>3</th>\n",
       "      <td>4</td>\n",
       "      <td>470052</td>\n",
       "      <td>2018-04-07</td>\n",
       "      <td>9</td>\n",
       "    </tr>\n",
       "    <tr>\n",
       "      <th>4</th>\n",
       "      <td>5</td>\n",
       "      <td>679263</td>\n",
       "      <td>2016-02-20</td>\n",
       "      <td>1</td>\n",
       "    </tr>\n",
       "    <tr>\n",
       "      <th>5</th>\n",
       "      <td>6</td>\n",
       "      <td>66271</td>\n",
       "      <td>2020-06-19</td>\n",
       "      <td>17</td>\n",
       "    </tr>\n",
       "    <tr>\n",
       "      <th>6</th>\n",
       "      <td>7</td>\n",
       "      <td>349714</td>\n",
       "      <td>2014-12-16</td>\n",
       "      <td>9</td>\n",
       "    </tr>\n",
       "    <tr>\n",
       "      <th>7</th>\n",
       "      <td>8</td>\n",
       "      <td>810783</td>\n",
       "      <td>2012-09-12</td>\n",
       "      <td>18</td>\n",
       "    </tr>\n",
       "    <tr>\n",
       "      <th>8</th>\n",
       "      <td>9</td>\n",
       "      <td>200602</td>\n",
       "      <td>2019-05-13</td>\n",
       "      <td>19</td>\n",
       "    </tr>\n",
       "    <tr>\n",
       "      <th>9</th>\n",
       "      <td>10</td>\n",
       "      <td>406556</td>\n",
       "      <td>2012-05-23</td>\n",
       "      <td>9</td>\n",
       "    </tr>\n",
       "  </tbody>\n",
       "</table>\n",
       "</div>"
      ],
      "text/plain": [
       "   ID  customer_id        date  hour\n",
       "0   1       452894  2017-09-04     6\n",
       "1   2       704430  2017-03-22    14\n",
       "2   3       429175  2013-07-23     1\n",
       "3   4       470052  2018-04-07     9\n",
       "4   5       679263  2016-02-20     1\n",
       "5   6        66271  2020-06-19    17\n",
       "6   7       349714  2014-12-16     9\n",
       "7   8       810783  2012-09-12    18\n",
       "8   9       200602  2019-05-13    19\n",
       "9  10       406556  2012-05-23     9"
      ]
     },
     "execution_count": 79,
     "metadata": {},
     "output_type": "execute_result"
    }
   ],
   "source": [
    "order_df = pd.DataFrame({\n",
    "    'ID': order_ids,\n",
    "    'customer_id': customer_ids,\n",
    "    'date': orders_dates,\n",
    "    'hour': orders_time})\n",
    "\n",
    "order_df.head(10)"
   ]
  },
  {
   "cell_type": "code",
   "execution_count": 82,
   "metadata": {},
   "outputs": [],
   "source": [
    "# shuffle the data\n",
    "order_df = order_df.sample(frac=1).reset_index(drop=True)\n",
    "\n",
    "order_df.to_csv('Data/orders.csv', index=False)"
   ]
  },
  {
   "cell_type": "code",
   "execution_count": 84,
   "metadata": {},
   "outputs": [],
   "source": [
    "oid = np.random.choice(order_ids, LENGTH)\n",
    "pid = np.random.choice(products_IDs, LENGTH)\n",
    "quantity = np.random.randint(1, 100, LENGTH)"
   ]
  },
  {
   "cell_type": "code",
   "execution_count": 86,
   "metadata": {},
   "outputs": [
    {
     "data": {
      "text/html": [
       "<div>\n",
       "<style scoped>\n",
       "    .dataframe tbody tr th:only-of-type {\n",
       "        vertical-align: middle;\n",
       "    }\n",
       "\n",
       "    .dataframe tbody tr th {\n",
       "        vertical-align: top;\n",
       "    }\n",
       "\n",
       "    .dataframe thead th {\n",
       "        text-align: right;\n",
       "    }\n",
       "</style>\n",
       "<table border=\"1\" class=\"dataframe\">\n",
       "  <thead>\n",
       "    <tr style=\"text-align: right;\">\n",
       "      <th></th>\n",
       "      <th>order_id</th>\n",
       "      <th>product_id</th>\n",
       "      <th>quantity</th>\n",
       "    </tr>\n",
       "  </thead>\n",
       "  <tbody>\n",
       "    <tr>\n",
       "      <th>0</th>\n",
       "      <td>361298</td>\n",
       "      <td>668799</td>\n",
       "      <td>10</td>\n",
       "    </tr>\n",
       "    <tr>\n",
       "      <th>1</th>\n",
       "      <td>148982</td>\n",
       "      <td>766232</td>\n",
       "      <td>46</td>\n",
       "    </tr>\n",
       "    <tr>\n",
       "      <th>2</th>\n",
       "      <td>439528</td>\n",
       "      <td>936138</td>\n",
       "      <td>84</td>\n",
       "    </tr>\n",
       "    <tr>\n",
       "      <th>3</th>\n",
       "      <td>701935</td>\n",
       "      <td>131536</td>\n",
       "      <td>37</td>\n",
       "    </tr>\n",
       "    <tr>\n",
       "      <th>4</th>\n",
       "      <td>718555</td>\n",
       "      <td>746586</td>\n",
       "      <td>69</td>\n",
       "    </tr>\n",
       "  </tbody>\n",
       "</table>\n",
       "</div>"
      ],
      "text/plain": [
       "   order_id  product_id  quantity\n",
       "0    361298      668799        10\n",
       "1    148982      766232        46\n",
       "2    439528      936138        84\n",
       "3    701935      131536        37\n",
       "4    718555      746586        69"
      ]
     },
     "execution_count": 86,
     "metadata": {},
     "output_type": "execute_result"
    }
   ],
   "source": [
    "order_items_df = pd.DataFrame({\n",
    "    'order_id': oid,\n",
    "    'product_id': pid,\n",
    "    'quantity': quantity})\n",
    "\n",
    "order_items_df.head()"
   ]
  },
  {
   "cell_type": "code",
   "execution_count": 87,
   "metadata": {},
   "outputs": [],
   "source": [
    "order_items_df.to_csv('Data/order_items.csv', index=False)"
   ]
  },
  {
   "cell_type": "markdown",
   "metadata": {},
   "source": [
    "## Generate Ratings Dataset"
   ]
  },
  {
   "cell_type": "code",
   "execution_count": 16,
   "metadata": {},
   "outputs": [],
   "source": [
    "import itertools\n",
    "\n",
    "customers_ids = np.random.choice(np.arange(1, LENGTH + 1), 2000)\n",
    "customers_ids = np.unique(customers_ids)\n",
    "\n",
    "products_ids = np.random.choice(np.arange(1, LENGTH + 1), 2000)\n",
    "products_ids = np.unique(products_ids)\n",
    "\n",
    "# get all the possible combinations of the customers ids and the products ids\n",
    "customers_products = list(itertools.product(customers_ids, products_ids))\n",
    "\n",
    "# shuffle the data\n",
    "np.random.shuffle(customers_products)"
   ]
  },
  {
   "cell_type": "code",
   "execution_count": 17,
   "metadata": {},
   "outputs": [],
   "source": [
    "customers_products = customers_products[:LENGTH]"
   ]
  },
  {
   "cell_type": "code",
   "execution_count": 18,
   "metadata": {},
   "outputs": [],
   "source": [
    "ratings = np.random.randint(1, 6, LENGTH)\n",
    "cid = [x[0] for x in customers_products]\n",
    "pid = [x[1] for x in customers_products]\n"
   ]
  },
  {
   "cell_type": "code",
   "execution_count": 20,
   "metadata": {},
   "outputs": [
    {
     "data": {
      "text/html": [
       "<div>\n",
       "<style scoped>\n",
       "    .dataframe tbody tr th:only-of-type {\n",
       "        vertical-align: middle;\n",
       "    }\n",
       "\n",
       "    .dataframe tbody tr th {\n",
       "        vertical-align: top;\n",
       "    }\n",
       "\n",
       "    .dataframe thead th {\n",
       "        text-align: right;\n",
       "    }\n",
       "</style>\n",
       "<table border=\"1\" class=\"dataframe\">\n",
       "  <thead>\n",
       "    <tr style=\"text-align: right;\">\n",
       "      <th></th>\n",
       "      <th>product_id</th>\n",
       "      <th>customer_id</th>\n",
       "      <th>rating</th>\n",
       "    </tr>\n",
       "  </thead>\n",
       "  <tbody>\n",
       "    <tr>\n",
       "      <th>0</th>\n",
       "      <td>981665</td>\n",
       "      <td>610090</td>\n",
       "      <td>4</td>\n",
       "    </tr>\n",
       "    <tr>\n",
       "      <th>1</th>\n",
       "      <td>980389</td>\n",
       "      <td>163175</td>\n",
       "      <td>4</td>\n",
       "    </tr>\n",
       "    <tr>\n",
       "      <th>2</th>\n",
       "      <td>98275</td>\n",
       "      <td>114595</td>\n",
       "      <td>2</td>\n",
       "    </tr>\n",
       "    <tr>\n",
       "      <th>3</th>\n",
       "      <td>432819</td>\n",
       "      <td>5618</td>\n",
       "      <td>3</td>\n",
       "    </tr>\n",
       "    <tr>\n",
       "      <th>4</th>\n",
       "      <td>189251</td>\n",
       "      <td>534728</td>\n",
       "      <td>2</td>\n",
       "    </tr>\n",
       "  </tbody>\n",
       "</table>\n",
       "</div>"
      ],
      "text/plain": [
       "   product_id  customer_id  rating\n",
       "0      981665       610090       4\n",
       "1      980389       163175       4\n",
       "2       98275       114595       2\n",
       "3      432819         5618       3\n",
       "4      189251       534728       2"
      ]
     },
     "execution_count": 20,
     "metadata": {},
     "output_type": "execute_result"
    }
   ],
   "source": [
    "ratings_df = pd.DataFrame({\n",
    "    'product_id': pid,\n",
    "    'customer_id': cid,\n",
    "    'rating': ratings})\n",
    "\n",
    "ratings_df.head()"
   ]
  },
  {
   "cell_type": "code",
   "execution_count": 90,
   "metadata": {},
   "outputs": [],
   "source": [
    "ratings_df.to_csv('Data/ratings.csv', index=False)"
   ]
  },
  {
   "cell_type": "code",
   "execution_count": null,
   "metadata": {},
   "outputs": [],
   "source": []
  }
 ],
 "metadata": {
  "kernelspec": {
   "display_name": "Python 3.9.13 ('base')",
   "language": "python",
   "name": "python3"
  },
  "language_info": {
   "codemirror_mode": {
    "name": "ipython",
    "version": 3
   },
   "file_extension": ".py",
   "mimetype": "text/x-python",
   "name": "python",
   "nbconvert_exporter": "python",
   "pygments_lexer": "ipython3",
   "version": "3.9.13"
  },
  "orig_nbformat": 4,
  "vscode": {
   "interpreter": {
    "hash": "21c7d85224e03fa14a4e0a5d646ebf671d09a25137f0579c8c46929c69ff3517"
   }
  }
 },
 "nbformat": 4,
 "nbformat_minor": 2
}
