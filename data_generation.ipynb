{
 "cells": [
  {
   "cell_type": "code",
   "execution_count": 107,
   "metadata": {},
   "outputs": [],
   "source": [
    "import numpy as np\n",
    "import pandas as pd\n",
    "import os"
   ]
  },
  {
   "cell_type": "code",
   "execution_count": 108,
   "metadata": {},
   "outputs": [],
   "source": [
    "LENGTH = 2000000\n",
    "FK_LENGTH = 5000\n",
    "output_folder = f'data_{LENGTH}/'"
   ]
  },
  {
   "cell_type": "code",
   "execution_count": 109,
   "metadata": {},
   "outputs": [],
   "source": [
    "# if output_folder does not exist, create it\n",
    "if not os.path.exists(output_folder):\n",
    "    os.makedirs(output_folder)"
   ]
  },
  {
   "attachments": {},
   "cell_type": "markdown",
   "metadata": {},
   "source": [
    "## Generate Customers Dataset"
   ]
  },
  {
   "cell_type": "code",
   "execution_count": 110,
   "metadata": {},
   "outputs": [],
   "source": [
    "governments_names = pd.read_csv('Seeds/governments.csv')[\"governorate_name_en\"].values\n",
    "available_names = pd.read_csv('Seeds/names.csv')['name'].unique()"
   ]
  },
  {
   "cell_type": "code",
   "execution_count": 111,
   "metadata": {},
   "outputs": [],
   "source": [
    "names = np.random.choice(available_names, LENGTH)\n",
    "\n",
    "IDs = np.arange(1, LENGTH + 1)\n",
    "governments = np.random.choice(governments_names, LENGTH)\n",
    "ages = np.random.randint(18, 81, LENGTH)\n",
    "gender = np.random.choice([0, 1], LENGTH)"
   ]
  },
  {
   "cell_type": "code",
   "execution_count": 112,
   "metadata": {},
   "outputs": [
    {
     "data": {
      "text/html": [
       "<div>\n",
       "<style scoped>\n",
       "    .dataframe tbody tr th:only-of-type {\n",
       "        vertical-align: middle;\n",
       "    }\n",
       "\n",
       "    .dataframe tbody tr th {\n",
       "        vertical-align: top;\n",
       "    }\n",
       "\n",
       "    .dataframe thead th {\n",
       "        text-align: right;\n",
       "    }\n",
       "</style>\n",
       "<table border=\"1\" class=\"dataframe\">\n",
       "  <thead>\n",
       "    <tr style=\"text-align: right;\">\n",
       "      <th></th>\n",
       "      <th>ID</th>\n",
       "      <th>governorate</th>\n",
       "      <th>age</th>\n",
       "      <th>name</th>\n",
       "      <th>gender</th>\n",
       "    </tr>\n",
       "  </thead>\n",
       "  <tbody>\n",
       "    <tr>\n",
       "      <th>0</th>\n",
       "      <td>1</td>\n",
       "      <td>Assiut</td>\n",
       "      <td>45</td>\n",
       "      <td>Diane Parks</td>\n",
       "      <td>0</td>\n",
       "    </tr>\n",
       "    <tr>\n",
       "      <th>1</th>\n",
       "      <td>2</td>\n",
       "      <td>Luxor</td>\n",
       "      <td>31</td>\n",
       "      <td>Joe Chambers</td>\n",
       "      <td>0</td>\n",
       "    </tr>\n",
       "    <tr>\n",
       "      <th>2</th>\n",
       "      <td>3</td>\n",
       "      <td>Qaliubiya</td>\n",
       "      <td>66</td>\n",
       "      <td>Jamie David</td>\n",
       "      <td>1</td>\n",
       "    </tr>\n",
       "    <tr>\n",
       "      <th>3</th>\n",
       "      <td>4</td>\n",
       "      <td>Matrouh</td>\n",
       "      <td>66</td>\n",
       "      <td>Felicia Cabrera</td>\n",
       "      <td>1</td>\n",
       "    </tr>\n",
       "    <tr>\n",
       "      <th>4</th>\n",
       "      <td>5</td>\n",
       "      <td>Assiut</td>\n",
       "      <td>35</td>\n",
       "      <td>John Hamilton</td>\n",
       "      <td>1</td>\n",
       "    </tr>\n",
       "  </tbody>\n",
       "</table>\n",
       "</div>"
      ],
      "text/plain": [
       "   ID governorate  age             name  gender\n",
       "0   1      Assiut   45      Diane Parks       0\n",
       "1   2       Luxor   31     Joe Chambers       0\n",
       "2   3   Qaliubiya   66      Jamie David       1\n",
       "3   4     Matrouh   66  Felicia Cabrera       1\n",
       "4   5      Assiut   35    John Hamilton       1"
      ]
     },
     "execution_count": 112,
     "metadata": {},
     "output_type": "execute_result"
    }
   ],
   "source": [
    "df = pd.DataFrame({\n",
    "    'ID': IDs,\n",
    "    'governorate': governments,\n",
    "    'age': ages,\n",
    "    'name': names,\n",
    "    'gender': gender})\n",
    "\n",
    "df.head()"
   ]
  },
  {
   "cell_type": "code",
   "execution_count": 113,
   "metadata": {},
   "outputs": [],
   "source": [
    "df.to_csv(output_folder + '/customers.csv', index=False)"
   ]
  },
  {
   "cell_type": "markdown",
   "metadata": {},
   "source": [
    "## Generate Suppliers Dataset"
   ]
  },
  {
   "cell_type": "code",
   "execution_count": 114,
   "metadata": {},
   "outputs": [],
   "source": [
    "suppliers_id = np.arange(1, LENGTH+1)\n",
    "suppliers_names = np.random.choice(available_names, LENGTH)\n",
    "\n",
    "# make supplier name unique\n",
    "suppliers_names = suppliers_names + suppliers_id.astype(str)"
   ]
  },
  {
   "cell_type": "code",
   "execution_count": 115,
   "metadata": {},
   "outputs": [
    {
     "data": {
      "text/html": [
       "<div>\n",
       "<style scoped>\n",
       "    .dataframe tbody tr th:only-of-type {\n",
       "        vertical-align: middle;\n",
       "    }\n",
       "\n",
       "    .dataframe tbody tr th {\n",
       "        vertical-align: top;\n",
       "    }\n",
       "\n",
       "    .dataframe thead th {\n",
       "        text-align: right;\n",
       "    }\n",
       "</style>\n",
       "<table border=\"1\" class=\"dataframe\">\n",
       "  <thead>\n",
       "    <tr style=\"text-align: right;\">\n",
       "      <th></th>\n",
       "      <th>ID</th>\n",
       "      <th>name</th>\n",
       "    </tr>\n",
       "  </thead>\n",
       "  <tbody>\n",
       "    <tr>\n",
       "      <th>0</th>\n",
       "      <td>1</td>\n",
       "      <td>Joseph Smith1</td>\n",
       "    </tr>\n",
       "    <tr>\n",
       "      <th>1</th>\n",
       "      <td>2</td>\n",
       "      <td>Jorge Martin2</td>\n",
       "    </tr>\n",
       "    <tr>\n",
       "      <th>2</th>\n",
       "      <td>3</td>\n",
       "      <td>Melissa Payne3</td>\n",
       "    </tr>\n",
       "    <tr>\n",
       "      <th>3</th>\n",
       "      <td>4</td>\n",
       "      <td>Nancy Cox4</td>\n",
       "    </tr>\n",
       "    <tr>\n",
       "      <th>4</th>\n",
       "      <td>5</td>\n",
       "      <td>Krystal Warren5</td>\n",
       "    </tr>\n",
       "  </tbody>\n",
       "</table>\n",
       "</div>"
      ],
      "text/plain": [
       "   ID             name\n",
       "0   1    Joseph Smith1\n",
       "1   2    Jorge Martin2\n",
       "2   3   Melissa Payne3\n",
       "3   4       Nancy Cox4\n",
       "4   5  Krystal Warren5"
      ]
     },
     "execution_count": 115,
     "metadata": {},
     "output_type": "execute_result"
    }
   ],
   "source": [
    "suppliers_df = pd.DataFrame({\n",
    "    'ID': suppliers_id,\n",
    "    'name': suppliers_names})\n",
    "\n",
    "suppliers_df.head()"
   ]
  },
  {
   "cell_type": "code",
   "execution_count": 116,
   "metadata": {},
   "outputs": [],
   "source": [
    "suppliers_df.to_csv(output_folder + './suppliers.csv', index=False)"
   ]
  },
  {
   "cell_type": "markdown",
   "metadata": {},
   "source": [
    "## Generate Products Dataset"
   ]
  },
  {
   "cell_type": "code",
   "execution_count": 117,
   "metadata": {},
   "outputs": [],
   "source": [
    "products_available_names = pd.read_csv('Seeds/products.csv')[\"product_name\"].unique()\n",
    "\n",
    "\n",
    "products_IDs = np.arange(1, LENGTH + 1)\n",
    "products_names = np.random.choice(products_available_names, LENGTH)\n",
    "products_prices = np.random.randint(100, 10001, LENGTH)\n",
    "products_categories = np.random.randint(1,  5001, LENGTH)\n",
    "cid = np.random.randint(1, FK_LENGTH+1, LENGTH)\n",
    "\n"
   ]
  },
  {
   "cell_type": "code",
   "execution_count": 118,
   "metadata": {},
   "outputs": [
    {
     "data": {
      "text/html": [
       "<div>\n",
       "<style scoped>\n",
       "    .dataframe tbody tr th:only-of-type {\n",
       "        vertical-align: middle;\n",
       "    }\n",
       "\n",
       "    .dataframe tbody tr th {\n",
       "        vertical-align: top;\n",
       "    }\n",
       "\n",
       "    .dataframe thead th {\n",
       "        text-align: right;\n",
       "    }\n",
       "</style>\n",
       "<table border=\"1\" class=\"dataframe\">\n",
       "  <thead>\n",
       "    <tr style=\"text-align: right;\">\n",
       "      <th></th>\n",
       "      <th>ID</th>\n",
       "      <th>product_name</th>\n",
       "      <th>price</th>\n",
       "      <th>category</th>\n",
       "      <th>supplier_id</th>\n",
       "    </tr>\n",
       "  </thead>\n",
       "  <tbody>\n",
       "    <tr>\n",
       "      <th>0</th>\n",
       "      <td>1</td>\n",
       "      <td>Soap Bar Ocean Mist</td>\n",
       "      <td>8427</td>\n",
       "      <td>3951</td>\n",
       "      <td>3124</td>\n",
       "    </tr>\n",
       "    <tr>\n",
       "      <th>1</th>\n",
       "      <td>2</td>\n",
       "      <td>Large Round Containers &amp; Lids</td>\n",
       "      <td>5667</td>\n",
       "      <td>3266</td>\n",
       "      <td>1964</td>\n",
       "    </tr>\n",
       "    <tr>\n",
       "      <th>2</th>\n",
       "      <td>3</td>\n",
       "      <td>Intense Stain Whitening Toothpaste With Fluoride</td>\n",
       "      <td>7485</td>\n",
       "      <td>4105</td>\n",
       "      <td>4253</td>\n",
       "    </tr>\n",
       "    <tr>\n",
       "      <th>3</th>\n",
       "      <td>4</td>\n",
       "      <td>SmartBlend Lamb &amp; Brown Rice Entree Wet Dog Food</td>\n",
       "      <td>2013</td>\n",
       "      <td>2825</td>\n",
       "      <td>483</td>\n",
       "    </tr>\n",
       "    <tr>\n",
       "      <th>4</th>\n",
       "      <td>5</td>\n",
       "      <td>Green Tea With Ginseng and Honey</td>\n",
       "      <td>6307</td>\n",
       "      <td>3180</td>\n",
       "      <td>623</td>\n",
       "    </tr>\n",
       "  </tbody>\n",
       "</table>\n",
       "</div>"
      ],
      "text/plain": [
       "   ID                                      product_name  price  category  \\\n",
       "0   1                               Soap Bar Ocean Mist   8427      3951   \n",
       "1   2                     Large Round Containers & Lids   5667      3266   \n",
       "2   3  Intense Stain Whitening Toothpaste With Fluoride   7485      4105   \n",
       "3   4  SmartBlend Lamb & Brown Rice Entree Wet Dog Food   2013      2825   \n",
       "4   5                  Green Tea With Ginseng and Honey   6307      3180   \n",
       "\n",
       "   supplier_id  \n",
       "0         3124  \n",
       "1         1964  \n",
       "2         4253  \n",
       "3          483  \n",
       "4          623  "
      ]
     },
     "execution_count": 118,
     "metadata": {},
     "output_type": "execute_result"
    }
   ],
   "source": [
    "products_df = pd.DataFrame({\n",
    "    'ID': products_IDs,\n",
    "    'product_name': products_names,\n",
    "    'price': products_prices,\n",
    "    'category': products_categories,\n",
    "    'supplier_id': cid})\n",
    "\n",
    "products_df.head()"
   ]
  },
  {
   "cell_type": "code",
   "execution_count": 119,
   "metadata": {},
   "outputs": [],
   "source": [
    "# shuffle the data\n",
    "products_df = products_df.sample(frac=1).reset_index(drop=True)\n",
    "\n",
    "products_df.to_csv(output_folder + '/products.csv', index=False)"
   ]
  },
  {
   "cell_type": "markdown",
   "metadata": {},
   "source": [
    "## Generate Orders Dataset"
   ]
  },
  {
   "cell_type": "code",
   "execution_count": 120,
   "metadata": {},
   "outputs": [],
   "source": [
    "order_ids = np.arange(1, LENGTH + 1)\n",
    "customer_ids = np.random.randint(1, FK_LENGTH + 1, LENGTH)\n",
    "available_dates = pd.date_range(start='1/1/2010', end='1/1/2021')\n",
    "# change the format of the dates to be like 2020-01-01\n",
    "available_dates = [str(date).split()[0] for date in available_dates]\n",
    "orders_dates = np.random.choice(available_dates, LENGTH)\n",
    "orders_time = np.random.randint(0, 24, LENGTH)"
   ]
  },
  {
   "cell_type": "code",
   "execution_count": 121,
   "metadata": {},
   "outputs": [
    {
     "data": {
      "text/html": [
       "<div>\n",
       "<style scoped>\n",
       "    .dataframe tbody tr th:only-of-type {\n",
       "        vertical-align: middle;\n",
       "    }\n",
       "\n",
       "    .dataframe tbody tr th {\n",
       "        vertical-align: top;\n",
       "    }\n",
       "\n",
       "    .dataframe thead th {\n",
       "        text-align: right;\n",
       "    }\n",
       "</style>\n",
       "<table border=\"1\" class=\"dataframe\">\n",
       "  <thead>\n",
       "    <tr style=\"text-align: right;\">\n",
       "      <th></th>\n",
       "      <th>ID</th>\n",
       "      <th>customer_id</th>\n",
       "      <th>date</th>\n",
       "      <th>hour</th>\n",
       "    </tr>\n",
       "  </thead>\n",
       "  <tbody>\n",
       "    <tr>\n",
       "      <th>0</th>\n",
       "      <td>1</td>\n",
       "      <td>4405</td>\n",
       "      <td>2017-01-28</td>\n",
       "      <td>9</td>\n",
       "    </tr>\n",
       "    <tr>\n",
       "      <th>1</th>\n",
       "      <td>2</td>\n",
       "      <td>682</td>\n",
       "      <td>2018-05-24</td>\n",
       "      <td>13</td>\n",
       "    </tr>\n",
       "    <tr>\n",
       "      <th>2</th>\n",
       "      <td>3</td>\n",
       "      <td>379</td>\n",
       "      <td>2012-11-03</td>\n",
       "      <td>12</td>\n",
       "    </tr>\n",
       "    <tr>\n",
       "      <th>3</th>\n",
       "      <td>4</td>\n",
       "      <td>3948</td>\n",
       "      <td>2020-03-30</td>\n",
       "      <td>13</td>\n",
       "    </tr>\n",
       "    <tr>\n",
       "      <th>4</th>\n",
       "      <td>5</td>\n",
       "      <td>2856</td>\n",
       "      <td>2019-01-29</td>\n",
       "      <td>14</td>\n",
       "    </tr>\n",
       "    <tr>\n",
       "      <th>5</th>\n",
       "      <td>6</td>\n",
       "      <td>1256</td>\n",
       "      <td>2015-06-16</td>\n",
       "      <td>16</td>\n",
       "    </tr>\n",
       "    <tr>\n",
       "      <th>6</th>\n",
       "      <td>7</td>\n",
       "      <td>1790</td>\n",
       "      <td>2014-09-08</td>\n",
       "      <td>19</td>\n",
       "    </tr>\n",
       "    <tr>\n",
       "      <th>7</th>\n",
       "      <td>8</td>\n",
       "      <td>4936</td>\n",
       "      <td>2015-10-03</td>\n",
       "      <td>1</td>\n",
       "    </tr>\n",
       "    <tr>\n",
       "      <th>8</th>\n",
       "      <td>9</td>\n",
       "      <td>3202</td>\n",
       "      <td>2017-12-23</td>\n",
       "      <td>4</td>\n",
       "    </tr>\n",
       "    <tr>\n",
       "      <th>9</th>\n",
       "      <td>10</td>\n",
       "      <td>728</td>\n",
       "      <td>2010-05-20</td>\n",
       "      <td>10</td>\n",
       "    </tr>\n",
       "  </tbody>\n",
       "</table>\n",
       "</div>"
      ],
      "text/plain": [
       "   ID  customer_id        date  hour\n",
       "0   1         4405  2017-01-28     9\n",
       "1   2          682  2018-05-24    13\n",
       "2   3          379  2012-11-03    12\n",
       "3   4         3948  2020-03-30    13\n",
       "4   5         2856  2019-01-29    14\n",
       "5   6         1256  2015-06-16    16\n",
       "6   7         1790  2014-09-08    19\n",
       "7   8         4936  2015-10-03     1\n",
       "8   9         3202  2017-12-23     4\n",
       "9  10          728  2010-05-20    10"
      ]
     },
     "execution_count": 121,
     "metadata": {},
     "output_type": "execute_result"
    }
   ],
   "source": [
    "order_df = pd.DataFrame({\n",
    "    'ID': order_ids,\n",
    "    'customer_id': customer_ids,\n",
    "    'date': orders_dates,\n",
    "    'hour': orders_time})\n",
    "\n",
    "order_df.head(10)"
   ]
  },
  {
   "cell_type": "code",
   "execution_count": 122,
   "metadata": {},
   "outputs": [],
   "source": [
    "# shuffle the data\n",
    "order_df = order_df.sample(frac=1).reset_index(drop=True)\n",
    "\n",
    "order_df.to_csv(output_folder + '/orders.csv', index=False)"
   ]
  },
  {
   "attachments": {},
   "cell_type": "markdown",
   "metadata": {},
   "source": [
    "## Generate Order Items"
   ]
  },
  {
   "cell_type": "code",
   "execution_count": 123,
   "metadata": {},
   "outputs": [],
   "source": [
    "import itertools\n",
    "\n",
    "products_ids = np.random.choice(np.arange(1, FK_LENGTH + 1), 2000)\n",
    "products_ids = np.unique(products_ids)\n",
    "\n",
    "orders_ids = np.random.choice(np.arange(1, FK_LENGTH + 1), 2000)\n",
    "orders_ids = np.unique(orders_ids)\n",
    "\n",
    "# get all the possible combinations of the customers ids and the products ids\n",
    "order_items = list(itertools.product(orders_ids, products_ids))\n",
    "\n",
    "# shuffle the data\n",
    "np.random.shuffle(order_items)\n",
    "\n",
    "order_items = order_items[:LENGTH]"
   ]
  },
  {
   "cell_type": "code",
   "execution_count": 124,
   "metadata": {},
   "outputs": [],
   "source": [
    "oid = [item[0] for item in order_items]\n",
    "pid = [item[1] for item in order_items]\n",
    "quantity = np.random.randint(1, 100, len(order_items))"
   ]
  },
  {
   "cell_type": "code",
   "execution_count": 125,
   "metadata": {},
   "outputs": [],
   "source": [
    "# oid_mapper = {val: i+1 for i, val in enumerate(np.unique(oid))}\n",
    "# pid_mapper = {val: i+1 for i, val in enumerate(np.unique(pid))}\n",
    "# oid = [oid_mapper[order_id] for order_id in oid]\n",
    "# pid = [pid_mapper[product_id] for product_id in pid]\n"
   ]
  },
  {
   "cell_type": "code",
   "execution_count": 126,
   "metadata": {},
   "outputs": [
    {
     "name": "stdout",
     "output_type": "stream",
     "text": [
      "[   8   12   17 ... 4995 4996 4999]\n"
     ]
    },
    {
     "data": {
      "text/html": [
       "<div>\n",
       "<style scoped>\n",
       "    .dataframe tbody tr th:only-of-type {\n",
       "        vertical-align: middle;\n",
       "    }\n",
       "\n",
       "    .dataframe tbody tr th {\n",
       "        vertical-align: top;\n",
       "    }\n",
       "\n",
       "    .dataframe thead th {\n",
       "        text-align: right;\n",
       "    }\n",
       "</style>\n",
       "<table border=\"1\" class=\"dataframe\">\n",
       "  <thead>\n",
       "    <tr style=\"text-align: right;\">\n",
       "      <th></th>\n",
       "      <th>order_id</th>\n",
       "      <th>product_id</th>\n",
       "      <th>quantity</th>\n",
       "    </tr>\n",
       "  </thead>\n",
       "  <tbody>\n",
       "    <tr>\n",
       "      <th>0</th>\n",
       "      <td>3942</td>\n",
       "      <td>123</td>\n",
       "      <td>75</td>\n",
       "    </tr>\n",
       "    <tr>\n",
       "      <th>1</th>\n",
       "      <td>4631</td>\n",
       "      <td>4694</td>\n",
       "      <td>9</td>\n",
       "    </tr>\n",
       "    <tr>\n",
       "      <th>2</th>\n",
       "      <td>3219</td>\n",
       "      <td>4135</td>\n",
       "      <td>18</td>\n",
       "    </tr>\n",
       "    <tr>\n",
       "      <th>3</th>\n",
       "      <td>1120</td>\n",
       "      <td>2983</td>\n",
       "      <td>12</td>\n",
       "    </tr>\n",
       "    <tr>\n",
       "      <th>4</th>\n",
       "      <td>3554</td>\n",
       "      <td>1527</td>\n",
       "      <td>16</td>\n",
       "    </tr>\n",
       "  </tbody>\n",
       "</table>\n",
       "</div>"
      ],
      "text/plain": [
       "   order_id  product_id  quantity\n",
       "0      3942         123        75\n",
       "1      4631        4694         9\n",
       "2      3219        4135        18\n",
       "3      1120        2983        12\n",
       "4      3554        1527        16"
      ]
     },
     "execution_count": 126,
     "metadata": {},
     "output_type": "execute_result"
    }
   ],
   "source": [
    "order_items_df = pd.DataFrame({\n",
    "    'order_id': oid,\n",
    "    'product_id': pid,\n",
    "    'quantity': quantity\n",
    "})\n",
    "print(np.unique(order_items_df['order_id']))\n",
    "order_items_df.head()"
   ]
  },
  {
   "cell_type": "code",
   "execution_count": 127,
   "metadata": {},
   "outputs": [],
   "source": [
    "order_items_df.to_csv(output_folder + '/order_items.csv', index=False)"
   ]
  },
  {
   "cell_type": "markdown",
   "metadata": {},
   "source": [
    "## Generate Ratings Dataset"
   ]
  },
  {
   "cell_type": "code",
   "execution_count": 128,
   "metadata": {},
   "outputs": [],
   "source": [
    "import itertools\n",
    "\n",
    "customers_ids = np.random.choice(np.arange(1, FK_LENGTH + 1), 2000)\n",
    "customers_ids = np.unique(customers_ids)\n",
    "\n",
    "products_ids = np.random.choice(np.arange(1, FK_LENGTH + 1), 2000)\n",
    "products_ids = np.unique(products_ids)\n",
    "\n",
    "# get all the possible combinations of the customers ids and the products ids\n",
    "customers_products = list(itertools.product(customers_ids, products_ids))\n",
    "\n",
    "# shuffle the data\n",
    "np.random.shuffle(customers_products)"
   ]
  },
  {
   "cell_type": "code",
   "execution_count": 129,
   "metadata": {},
   "outputs": [],
   "source": [
    "customers_products = customers_products[:LENGTH]"
   ]
  },
  {
   "cell_type": "code",
   "execution_count": 130,
   "metadata": {},
   "outputs": [],
   "source": [
    "ratings = np.random.randint(1, 6, LENGTH)\n",
    "cid = [x[0] for x in customers_products]\n",
    "pid = [x[1] for x in customers_products]"
   ]
  },
  {
   "cell_type": "code",
   "execution_count": 131,
   "metadata": {},
   "outputs": [],
   "source": [
    "# cid_mapper = {val: i+1 for i, val in enumerate(np.unique(cid))}\n",
    "# pid_mapper = {val: i+1 for i, val in enumerate(np.unique(pid))}\n",
    "# cid = [cid_mapper[customer_id] for customer_id in cid]\n",
    "# pid = [pid_mapper[product_id] for product_id in pid]"
   ]
  },
  {
   "cell_type": "code",
   "execution_count": 132,
   "metadata": {},
   "outputs": [
    {
     "name": "stdout",
     "output_type": "stream",
     "text": [
      "[   1    2    5 ... 4995 4997 4998]\n"
     ]
    }
   ],
   "source": [
    "print(np.unique(cid))"
   ]
  },
  {
   "cell_type": "code",
   "execution_count": 133,
   "metadata": {},
   "outputs": [
    {
     "data": {
      "text/html": [
       "<div>\n",
       "<style scoped>\n",
       "    .dataframe tbody tr th:only-of-type {\n",
       "        vertical-align: middle;\n",
       "    }\n",
       "\n",
       "    .dataframe tbody tr th {\n",
       "        vertical-align: top;\n",
       "    }\n",
       "\n",
       "    .dataframe thead th {\n",
       "        text-align: right;\n",
       "    }\n",
       "</style>\n",
       "<table border=\"1\" class=\"dataframe\">\n",
       "  <thead>\n",
       "    <tr style=\"text-align: right;\">\n",
       "      <th></th>\n",
       "      <th>product_id</th>\n",
       "      <th>customer_id</th>\n",
       "      <th>rating</th>\n",
       "    </tr>\n",
       "  </thead>\n",
       "  <tbody>\n",
       "    <tr>\n",
       "      <th>0</th>\n",
       "      <td>2169</td>\n",
       "      <td>4856</td>\n",
       "      <td>5</td>\n",
       "    </tr>\n",
       "    <tr>\n",
       "      <th>1</th>\n",
       "      <td>1664</td>\n",
       "      <td>341</td>\n",
       "      <td>5</td>\n",
       "    </tr>\n",
       "    <tr>\n",
       "      <th>2</th>\n",
       "      <td>2822</td>\n",
       "      <td>899</td>\n",
       "      <td>5</td>\n",
       "    </tr>\n",
       "    <tr>\n",
       "      <th>3</th>\n",
       "      <td>3767</td>\n",
       "      <td>4539</td>\n",
       "      <td>3</td>\n",
       "    </tr>\n",
       "    <tr>\n",
       "      <th>4</th>\n",
       "      <td>4010</td>\n",
       "      <td>4816</td>\n",
       "      <td>3</td>\n",
       "    </tr>\n",
       "  </tbody>\n",
       "</table>\n",
       "</div>"
      ],
      "text/plain": [
       "   product_id  customer_id  rating\n",
       "0        2169         4856       5\n",
       "1        1664          341       5\n",
       "2        2822          899       5\n",
       "3        3767         4539       3\n",
       "4        4010         4816       3"
      ]
     },
     "execution_count": 133,
     "metadata": {},
     "output_type": "execute_result"
    }
   ],
   "source": [
    "ratings_df = pd.DataFrame({\n",
    "    'product_id': pid,\n",
    "    'customer_id': cid,\n",
    "    'rating': ratings})\n",
    "\n",
    "ratings_df.head()"
   ]
  },
  {
   "cell_type": "code",
   "execution_count": 134,
   "metadata": {},
   "outputs": [],
   "source": [
    "ratings_df.to_csv(output_folder + '/ratings.csv', index=False)"
   ]
  },
  {
   "cell_type": "code",
   "execution_count": 135,
   "metadata": {},
   "outputs": [
    {
     "name": "stdout",
     "output_type": "stream",
     "text": [
      "2000000\n",
      "2000000\n",
      "2000000\n",
      "2000000\n",
      "2000000\n",
      "2000000\n"
     ]
    }
   ],
   "source": [
    "print(len(ratings_df))\n",
    "print(len(order_df))\n",
    "print(len(order_items_df))\n",
    "print(len(products_df))\n",
    "print(len(suppliers_df))\n",
    "print(len(df))"
   ]
  }
 ],
 "metadata": {
  "kernelspec": {
   "display_name": "Python 3",
   "language": "python",
   "name": "python3"
  },
  "language_info": {
   "codemirror_mode": {
    "name": "ipython",
    "version": 3
   },
   "file_extension": ".py",
   "mimetype": "text/x-python",
   "name": "python",
   "nbconvert_exporter": "python",
   "pygments_lexer": "ipython3",
   "version": "3.10.8"
  },
  "orig_nbformat": 4,
  "vscode": {
   "interpreter": {
    "hash": "afb734500600fd355917ca529030176ea0ca205570884b88f2f6f7d791fd3fbe"
   }
  }
 },
 "nbformat": 4,
 "nbformat_minor": 2
}
