{
 "cells": [
  {
   "attachments": {},
   "cell_type": "markdown",
   "metadata": {},
   "source": [
    "This Notebook is a script that takes the csv datasets and load it into \n",
    "the MYSQL workbench realtions fot a database calles shoppingcart"
   ]
  },
  {
   "cell_type": "code",
   "execution_count": 15,
   "metadata": {},
   "outputs": [],
   "source": [
    "import pandas as pd\n",
    "from sqlalchemy import create_engine"
   ]
  },
  {
   "cell_type": "code",
   "execution_count": 16,
   "metadata": {},
   "outputs": [],
   "source": [
    "input_folder = 'data_100000'"
   ]
  },
  {
   "cell_type": "code",
   "execution_count": 17,
   "metadata": {},
   "outputs": [],
   "source": [
    "engine = create_engine('mysql+pymysql://root:@localhost:3306/adb_nonopt_100k')\n",
    "connection = engine.connect()"
   ]
  },
  {
   "cell_type": "code",
   "execution_count": 18,
   "metadata": {},
   "outputs": [
    {
     "data": {
      "text/html": [
       "<div>\n",
       "<style scoped>\n",
       "    .dataframe tbody tr th:only-of-type {\n",
       "        vertical-align: middle;\n",
       "    }\n",
       "\n",
       "    .dataframe tbody tr th {\n",
       "        vertical-align: top;\n",
       "    }\n",
       "\n",
       "    .dataframe thead th {\n",
       "        text-align: right;\n",
       "    }\n",
       "</style>\n",
       "<table border=\"1\" class=\"dataframe\">\n",
       "  <thead>\n",
       "    <tr style=\"text-align: right;\">\n",
       "      <th></th>\n",
       "      <th>ID</th>\n",
       "      <th>governorate</th>\n",
       "      <th>age</th>\n",
       "      <th>name</th>\n",
       "      <th>gender</th>\n",
       "    </tr>\n",
       "  </thead>\n",
       "  <tbody>\n",
       "    <tr>\n",
       "      <th>0</th>\n",
       "      <td>1</td>\n",
       "      <td>Luxor</td>\n",
       "      <td>34</td>\n",
       "      <td>Nicholas Jacobson</td>\n",
       "      <td>1</td>\n",
       "    </tr>\n",
       "    <tr>\n",
       "      <th>1</th>\n",
       "      <td>2</td>\n",
       "      <td>Matrouh</td>\n",
       "      <td>61</td>\n",
       "      <td>Jasmine Barrera</td>\n",
       "      <td>0</td>\n",
       "    </tr>\n",
       "    <tr>\n",
       "      <th>2</th>\n",
       "      <td>3</td>\n",
       "      <td>Suez</td>\n",
       "      <td>56</td>\n",
       "      <td>Angela Taylor</td>\n",
       "      <td>0</td>\n",
       "    </tr>\n",
       "    <tr>\n",
       "      <th>3</th>\n",
       "      <td>4</td>\n",
       "      <td>New Valley</td>\n",
       "      <td>67</td>\n",
       "      <td>Suzanne Wallace</td>\n",
       "      <td>0</td>\n",
       "    </tr>\n",
       "    <tr>\n",
       "      <th>4</th>\n",
       "      <td>5</td>\n",
       "      <td>Luxor</td>\n",
       "      <td>52</td>\n",
       "      <td>Kevin Green</td>\n",
       "      <td>1</td>\n",
       "    </tr>\n",
       "  </tbody>\n",
       "</table>\n",
       "</div>"
      ],
      "text/plain": [
       "   ID governorate  age               name  gender\n",
       "0   1       Luxor   34  Nicholas Jacobson       1\n",
       "1   2     Matrouh   61    Jasmine Barrera       0\n",
       "2   3        Suez   56      Angela Taylor       0\n",
       "3   4  New Valley   67    Suzanne Wallace       0\n",
       "4   5       Luxor   52        Kevin Green       1"
      ]
     },
     "execution_count": 18,
     "metadata": {},
     "output_type": "execute_result"
    }
   ],
   "source": [
    "customer_df = pd.read_csv(f'./{input_folder}/customers.csv')\n",
    "customer_df.head()"
   ]
  },
  {
   "cell_type": "code",
   "execution_count": 19,
   "metadata": {},
   "outputs": [
    {
     "data": {
      "text/plain": [
       "100000"
      ]
     },
     "execution_count": 19,
     "metadata": {},
     "output_type": "execute_result"
    }
   ],
   "source": [
    "len(customer_df)"
   ]
  },
  {
   "cell_type": "code",
   "execution_count": null,
   "metadata": {},
   "outputs": [],
   "source": []
  },
  {
   "cell_type": "code",
   "execution_count": 20,
   "metadata": {},
   "outputs": [
    {
     "data": {
      "text/plain": [
       "100000"
      ]
     },
     "execution_count": 20,
     "metadata": {},
     "output_type": "execute_result"
    }
   ],
   "source": [
    "customer_df.to_sql('customers', con=connection, if_exists='replace',index=False, method=None)"
   ]
  },
  {
   "cell_type": "code",
   "execution_count": 21,
   "metadata": {},
   "outputs": [
    {
     "data": {
      "text/plain": [
       "100000"
      ]
     },
     "execution_count": 21,
     "metadata": {},
     "output_type": "execute_result"
    }
   ],
   "source": [
    "products_df = pd.read_csv(f'./{input_folder}/products.csv')\n",
    "products_df.to_sql('products', con=connection, if_exists='replace',index=False, method=None)"
   ]
  },
  {
   "cell_type": "code",
   "execution_count": 22,
   "metadata": {},
   "outputs": [
    {
     "data": {
      "text/plain": [
       "100000"
      ]
     },
     "execution_count": 22,
     "metadata": {},
     "output_type": "execute_result"
    }
   ],
   "source": [
    "orders_df = pd.read_csv(f'./{input_folder}/orders.csv')\n",
    "orders_df.to_sql('orders', con=connection, if_exists='replace',index=False, method=None)"
   ]
  },
  {
   "cell_type": "code",
   "execution_count": 23,
   "metadata": {},
   "outputs": [
    {
     "data": {
      "text/plain": [
       "100000"
      ]
     },
     "execution_count": 23,
     "metadata": {},
     "output_type": "execute_result"
    }
   ],
   "source": [
    "suppliers_df = pd.read_csv(f'./{input_folder}/suppliers.csv')\n",
    "suppliers_df.to_sql('suppliers', con=connection, if_exists='replace',index=False, method=None)"
   ]
  },
  {
   "cell_type": "code",
   "execution_count": 24,
   "metadata": {},
   "outputs": [
    {
     "data": {
      "text/plain": [
       "100000"
      ]
     },
     "execution_count": 24,
     "metadata": {},
     "output_type": "execute_result"
    }
   ],
   "source": [
    "order_items_df = pd.read_csv(f'./{input_folder}/order_items.csv')\n",
    "order_items_df.to_sql('order_items', con=connection, if_exists='replace',index=False, method=None)"
   ]
  },
  {
   "cell_type": "code",
   "execution_count": 25,
   "metadata": {},
   "outputs": [
    {
     "data": {
      "text/plain": [
       "100000"
      ]
     },
     "execution_count": 25,
     "metadata": {},
     "output_type": "execute_result"
    }
   ],
   "source": [
    "ratings_df = pd.read_csv(f'./{input_folder}/ratings.csv')\n",
    "ratings_df.to_sql('ratings', con=connection, if_exists='replace',index=False, method=None)"
   ]
  },
  {
   "cell_type": "code",
   "execution_count": 26,
   "metadata": {},
   "outputs": [],
   "source": [
    "# adding th primary keys\n",
    "connection.execute(\"ALTER TABLE customers ADD PRIMARY KEY (ID);\")\n",
    "connection.execute(\"ALTER TABLE products ADD PRIMARY KEY (ID);\")\n",
    "connection.execute(\"ALTER TABLE orders ADD PRIMARY KEY (ID);\")\n",
    "connection.execute(\"ALTER TABLE suppliers ADD PRIMARY KEY (ID);\")\n",
    "connection.execute(\"ALTER TABLE order_items ADD PRIMARY KEY (order_id, product_id);\")\n",
    "connection.execute(\"ALTER TABLE ratings ADD PRIMARY KEY (customer_id, product_id);\")\n",
    "\n",
    "# adding the foreign keys\n",
    "connection.execute(\"ALTER TABLE order_items ADD FOREIGN KEY (order_id) REFERENCES orders(ID);\")\n",
    "connection.execute(\"ALTER TABLE order_items ADD FOREIGN KEY (product_id) REFERENCES products(ID);\")\n",
    "connection.execute(\"ALTER TABLE products ADD FOREIGN KEY (supplier_id) REFERENCES suppliers(ID);\")\n",
    "connection.execute(\"ALTER TABLE orders ADD FOREIGN KEY (customer_id) REFERENCES customers(ID);\")\n",
    "connection.execute(\"ALTER TABLE ratings ADD FOREIGN KEY (customer_id) REFERENCES customers(ID);\")\n",
    "connection.execute(\"ALTER TABLE ratings ADD FOREIGN KEY (product_id) REFERENCES products(ID);\")\n",
    "\n",
    "\n",
    "# closing the connection\n",
    "connection.close()"
   ]
  }
 ],
 "metadata": {
  "kernelspec": {
   "display_name": "Python 3",
   "language": "python",
   "name": "python3"
  },
  "language_info": {
   "codemirror_mode": {
    "name": "ipython",
    "version": 3
   },
   "file_extension": ".py",
   "mimetype": "text/x-python",
   "name": "python",
   "nbconvert_exporter": "python",
   "pygments_lexer": "ipython3",
   "version": "3.10.8"
  },
  "orig_nbformat": 4,
  "vscode": {
   "interpreter": {
    "hash": "afb734500600fd355917ca529030176ea0ca205570884b88f2f6f7d791fd3fbe"
   }
  }
 },
 "nbformat": 4,
 "nbformat_minor": 2
}
